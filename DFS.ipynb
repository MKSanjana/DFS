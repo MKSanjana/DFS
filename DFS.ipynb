{
  "nbformat": 4,
  "nbformat_minor": 0,
  "metadata": {
    "colab": {
      "name": "DFS.ipynb",
      "provenance": []
    },
    "kernelspec": {
      "name": "python3",
      "display_name": "Python 3"
    },
    "language_info": {
      "name": "python"
    }
  },
  "cells": [
    {
      "cell_type": "code",
      "execution_count": null,
      "metadata": {
        "colab": {
          "base_uri": "https://localhost:8080/"
        },
        "id": "J8f1OG-yCBjl",
        "outputId": "a501ec47-db7b-4e50-d2ea-7f6be729b166"
      },
      "outputs": [
        {
          "output_type": "stream",
          "name": "stdout",
          "text": [
            "Following is DFS from (starting from vertex 2)\n",
            "2 0 1 3 "
          ]
        }
      ],
      "source": [
        "#DFS\n",
        "\n",
        "from collections import defaultdict\n",
        "class Graph:\n",
        "\tdef __init__(self):\n",
        "\t\tself.graph = defaultdict(list)\n",
        "\tdef addEdge(self, u, v):\n",
        "\t\tself.graph[u].append(v)\n",
        "\tdef DFSUtil(self, v, visited):\n",
        "\t\tvisited.add(v)\n",
        "\t\tprint(v, end=' ')\n",
        "\t\tfor neighbour in self.graph[v]:\n",
        "\t\t\tif neighbour not in visited:\n",
        "\t\t\t\tself.DFSUtil(neighbour, visited)\n",
        "\tdef DFS(self, v):\n",
        "\t\tvisited = set()\n",
        "\t\tself.DFSUtil(v, visited)\n",
        "g = Graph()\n",
        "g.addEdge(0, 1)\n",
        "g.addEdge(0, 2)\n",
        "g.addEdge(1, 2)\n",
        "g.addEdge(2, 0)\n",
        "g.addEdge(2, 3)\n",
        "g.addEdge(3, 3)\n",
        "print(\"Following is DFS from (starting from vertex 2)\")\n",
        "g.DFS(2)"
      ]
    }
  ]
}